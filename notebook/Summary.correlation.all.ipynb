{
 "cells": [
  {
   "cell_type": "markdown",
   "metadata": {},
   "source": [
    "### Summarize correlation matrices\n",
    "\n",
    "matrix of experiments (top10 TFs)"
   ]
  },
  {
   "cell_type": "code",
   "execution_count": 1,
   "metadata": {},
   "outputs": [
    {
     "data": {
      "text/html": [
       "<table>\n",
       "<thead><tr><th></th><th scope=col>DRX000549</th><th scope=col>DRX000550</th><th scope=col>DRX001460</th><th scope=col>DRX002911</th><th scope=col>DRX002912</th><th scope=col>DRX002915</th><th scope=col>DRX002918</th><th scope=col>DRX013180</th><th scope=col>DRX013181</th><th scope=col>DRX013190</th><th scope=col>⋯</th><th scope=col>SRX974294</th><th scope=col>SRX974295</th><th scope=col>SRX974395</th><th scope=col>SRX976241</th><th scope=col>SRX976244</th><th scope=col>SRX986358</th><th scope=col>SRX995496</th><th scope=col>SRX995497</th><th scope=col>SRX995500</th><th scope=col>SRX995501</th></tr></thead>\n",
       "<tbody>\n",
       "\t<tr><th scope=row>DRX000549</th><td>1.00000000  </td><td>0.17525885  </td><td>0.11394696  </td><td>0.06759852  </td><td>0.07242662  </td><td>0.07223772  </td><td>0.07488169  </td><td>0.004325589 </td><td>0.007686851 </td><td>0.0036053537</td><td>⋯           </td><td>0.011578973 </td><td>0.020665263 </td><td>0.03914999  </td><td>0.02525893  </td><td>0.03026684  </td><td>0.05464746  </td><td>0.005212163 </td><td>0.008639736 </td><td>0.006449942 </td><td>0.0023615585</td></tr>\n",
       "\t<tr><th scope=row>DRX000550</th><td>0.17525885  </td><td>1.00000000  </td><td>0.15692934  </td><td>0.07239993  </td><td>0.08160262  </td><td>0.09948701  </td><td>0.08436907  </td><td>0.006011529 </td><td>0.006614595 </td><td>0.0050286710</td><td>⋯           </td><td>0.015967755 </td><td>0.028471509 </td><td>0.06934400  </td><td>0.02781557  </td><td>0.04169167  </td><td>0.09677741  </td><td>0.007217869 </td><td>0.011923046 </td><td>0.008915332 </td><td>0.0033058697</td></tr>\n",
       "\t<tr><th scope=row>DRX001460</th><td>0.11394696  </td><td>0.15692934  </td><td>1.00000000  </td><td>0.04706463  </td><td>0.04124966  </td><td>0.05029703  </td><td>0.04264919  </td><td>0.003821935 </td><td>0.004221101 </td><td>0.0038922601</td><td>⋯           </td><td>0.010347442 </td><td>0.018492224 </td><td>0.03504894  </td><td>0.01261322  </td><td>0.01894404  </td><td>0.04892641  </td><td>0.004302020 </td><td>0.007186862 </td><td>0.005346084 </td><td>0.0030417481</td></tr>\n",
       "\t<tr><th scope=row>DRX002911</th><td>0.06759852  </td><td>0.07239993  </td><td>0.04706463  </td><td>1.00000000  </td><td>0.64792948  </td><td>0.18579749  </td><td>0.63046654  </td><td>0.001902651 </td><td>0.004281362 </td><td>0.0009772816</td><td>⋯           </td><td>0.004610149 </td><td>0.005991611 </td><td>0.05084025  </td><td>0.03652392  </td><td>0.06101029  </td><td>0.13876920  </td><td>0.002587784 </td><td>0.002156895 </td><td>0.001481716 </td><td>0.0019532373</td></tr>\n",
       "\t<tr><th scope=row>DRX002912</th><td>0.07242662  </td><td>0.08160262  </td><td>0.04124966  </td><td>0.64792948  </td><td>1.00000000  </td><td>0.17450270  </td><td>0.77229928  </td><td>0.003209674 </td><td>0.004927867 </td><td>0.0017149483</td><td>⋯           </td><td>0.005191366 </td><td>0.007364229 </td><td>0.04860710  </td><td>0.03381365  </td><td>0.05620361  </td><td>0.13578859  </td><td>0.002481975 </td><td>0.002881575 </td><td>0.002008291 </td><td>0.0010594650</td></tr>\n",
       "\t<tr><th scope=row>DRX002915</th><td>0.07223772  </td><td>0.09948701  </td><td>0.05029703  </td><td>0.18579749  </td><td>0.17450270  </td><td>1.00000000  </td><td>0.18342350  </td><td>0.001519777 </td><td>0.003358463 </td><td>0.0024119258</td><td>⋯           </td><td>0.007917734 </td><td>0.011656776 </td><td>0.07411824  </td><td>0.04464858  </td><td>0.09869756  </td><td>0.33112868  </td><td>0.002823544 </td><td>0.003637944 </td><td>0.004087684 </td><td>0.0006587629</td></tr>\n",
       "</tbody>\n",
       "</table>\n"
      ],
      "text/latex": [
       "\\begin{tabular}{r|llllllllllllllllllllllllllllllllllllllllllllllllllllllllllllllllllllllllllllllllllllllllllllllllllllllllllllllllllllllllllllllllllllllllllllllllllllllllllllllllllllllllllllllllllllllllllllllllllllllllllllllllllllllllllllllllllllllllllllllllllllllllllllllllllllllllllllllllllllllllllllllllllllllllllllllllllllllllllllllllllllllllllllllllllllllllllllllllllllllllllllllllllllllllllllllllllllllllllllllllllllllllllllllllllllllllllllllllllllllllllllllllllllllllllllllllllllllllllllllllllllllllllllllllllllllllllllllllllllllllllllllllllllllllllllllllllllllllllllllllllllllllllllllllllllllllllllllllllllllllllllllllllllllllllllllllllllllllllllllllllllllllllllllllllllllllllllllllllllllllllllllllllllllllllllllllllllllllllllllllllllllllllllllllllllllllllllllllllllllllllllllllllllllllllllllllllllllllllllllllllllllllllllllllllllllllllllllllllllllllllllllllllllllllllllllllllllllllllllllllllllllllllllllllllllllllllllllllllllllllllllllllllllllllllllllllllllllllllllllllllllllllllllllllllllllllllllllllllllllllllllllllllllllllllllllllllllllllllllllllllllllllllllllllllllllllllllllllllllllllllllllllllllllllllllllllllllllllllllllllllllllllllllllllllllllllllllllllllllllllllllllllllllllllllllllllllllllllllllllllllllllllllllllllllllllllllllllllllllllllllllllllllllllllllllllllllllllllllllllllllllllllllllllllllllllllllllllllllllllllllllllllllllllllllllllllllllllllllllllllllllllllllllllllllllllllllllllllllllllllllllllllllllllllllllllllllllllllllllllllllllllllllllllllllllllllllllllllllllllllllllllllllllllllllllllllllllllllllllllllllllllllllllllllllllllllllllllllllllllllllllllllllllllllllllllllllllllllllllllllllllllllllllllllllllllllllllllllllllllllllllllllllllllllllllllllllllllllllllllllllllllllllllllllllllllllllllllllllllllllllllllllllllllllllllllllllllllllllllllllllllllllllllllllllllllllllllllllllllllllllllllllllllllllllllllllllllllllllllllllllllllllllllllllllllllllllllllllllllllllllllllllllllllllllllllllllllllllllllllllllllllllllllllllllllllllllllllllllllllllllllllllllllllllllllllllllllllllllllllllllllllllllllllllllllllllllllllllllllllllllllllllllllllllllllllllllllllllllllllllllllllllllllllllllllllllllllllllllllllllllllllllllllllllllllllllllllllllllllllllllllllllllllllllllllllllllllllllllllllllllllllllllllllllllllllllllllllllllllllllllllllllllllllllllllllllllllllllllllllllllllllllllllllllllllllllllllllllllllllllllllllllllllllllllllllllllllllllllllllllllllllllllllllllllllllllllllllllllllllllllllllllllllllllllllllllllllllllllllllllllllllllllllllllllllllllllllllllllllllllllllllllllllllllllllllllllllllllllllllllllllllllllllllllllllllllllllllllllllllllllllllllllllllllllllllllllllllllllllllllllllllllllllllllllllllllllllllllllllllllllllllllllllllllllllllllllllllllllllllllllllllllllllllllllllllllllllllllllllllllllllllllllllllllllllllllllllllllllllllllllllllllllllllllllllllllllllllllllllllllllllllllllllllllllllllllllllllllllllllllllllllllllllllllllllllllllllllllllllllllllllllllllllllllllllllllllllllllllllllllllllllllllllllllllllllllllllllllllllllllllllllllllllllllllllllllllllllllllllllllllllllllllllllllllllllllllllllllllllllllllllllllllllllllllllllllllllllllllllllllllllllllllllllllllllllllllllllllllllllllllllllllllllllllllllllllllllllllllllllllllllllllllllllllllllllllllllllllllllllllllllllllllllllllllllllllllllllllllllllllllllllllllllllllllllllllllllllllllllllllllllllllllllllllllllllllllllllllllllllllllllllllllllllllllllllllllllllllllllllllllllllllllllllllllllllllllllllllllllllllllllllllllllllllllllllllllllllllllllllllllllllllllllllllllllllllllllllllllllllllllllllllllllllllllllllllllllllllllllllllllllllllllllllllllllllllllllllllllllllllllllllllllllllllllllllllllllllllllllllllllllllllllllllllllllllllllllllllllllllllllllllllllllllllllllllllllllllllllllllllllllllllllllllllllllllllllllllllllllllllllllllllllllllllllllllllllllllllllllllllllllllllllllllllllllllllllllllllllllllllllllllllllllllllllllllllllllllllllllllllllllllllllllllllllllllllllllllllllllllllllllllllllllllllllllllllllllllllllllllllllllllllllllllllllllllllllllllllllllllllllllllllllllllllllllllllllllllllllllllllllllllllllllllllllllllllllllllllllllllllllllllllllllllllllllllllllllllllllllllllllllllllllllllllllllllllllllllllllllllllllllllllllllllllllllllllllllllllllllllllllllllllllllllllllllllllllllllllllllllllllllllllllllllllllllllllllllllllllllllllllllllllllllllllllllllllllllllllllllllllllllllllllllllllllllllllllllllllllllllllllllllllllllllllllllllllllllllllllllllllllllllllllllllllllllllllllllllllllllllllllllllllllllllllllllllllllllllllllllllllllllllllllllllllllllllllllllllllllllllllllllllllllllllllllllllllllllllllllllllllllllllllllllllllllllllllllllllllllllllllllllllllllllllllllllllllllllllllllllllllllllllllllllllllllllllllllllllllllllllllllllllllllllllllllllllllllllllllllllllllllllllllllllllllllllllllllllllllllllllllllllllllllllllllllllllllllllllllllllllllllllllllllllllllllllllllllllllllllllllllllllllllllllllllllllllllllllllllllllllllllllllllllllllllllllllllllllllllllllllllllllllllllllllllllllllllllllllllllllllllllllllllllllllllllllllllllllllllllllllllllllllllllllllllllllllllllllllllllllllllllllllllllllllllllllllllllllllllllllllllllllllllllllllllllllllllllllllllllllllllllllllllllllllllllllllllllllllllllllllllllllllllllllllllllllllllllllllllllllllllllllllllllllllllllllllllllllllllllllllllllllllllllllllllllllllllllllllllllllllllllllllllllllllllllllllllllllllllllllllllllllllllllllllllllllllllllllllllllllllllllllllllllllllllllllllllllllllllllllllllllllllllllllllllllllllllllllllllllllllllllllllllllllllllllllllllllllllllllllllllllllllllllllllllllllllllllllllllllllllllllllllllllllllllllllllllllllllllllllllllllllllllllllllllllllllllllllllllllllllllllllllllllllllllllllllllllllllllllllllllllllllllllllllllllllllllllllllllllllllllllllllllllllllllllllllllllllllllllllllllllllllllllllllllllllllllllllllllllllllllllllllllllllllllllllllllllllllllllllllllllllllllllllllllllllllllllllllllllllllllllllllllllllllllllllllllllllllllllllllllllllllllllllllllllllllllllllllllllllllllllllllllllllllllllllllllllllllllllllllllllllllllllllllllllllllllllllllllllllllllllllllllllllllllllllllllllllllllllllllllllllllllllllllllllllllllllllllllllllllllllllllllllllllllllllllllllllllllllllllllllllllllllllllllllllllllllllllllllllllllllllllllllllllllllllllllllllllllllllllllllllllllllllllllllllllllllllllllllllllllllllllllllllllllllllllllllllllllllllllllllllllllllllllllllllllllllllllllllllllllllllllllllllllllllllllllllllllllllllllllllllllllllllllllllllllllllllllllllllllllllllllllllllllllllllllllllllllllllllllllllllllllllllllllllllllllllllllllllllllllllllllllllllllllllllllllllllllllllllllllllllllllllllllllllllllllllllllllllllllllllllllllllllllllllllllllllllllllllllllllllllllllllllllllllllllllllllllllllllllllllllllllllllllllllllllllllllllllllllllllllllllllllllllllllllllllllllllllllllllllllllllllllllllllllllllllllllllllllllllllllllllllllllllllllllllllllllllllllllllllllllllllllllllllllllllllllllllllllllllllllllllllllllllllllllllllllllllllllllllllllllllllllllllllllllllllllllllllllllllllllllllllllllllllllllllllllllllllllllllllllllllllllllllllllllllllllllllllllllllllllllllllllllllllllllllllllllllllllllllllllllllllllllllllllllllllllllllllllllllllllllllllllllllllllllllllllllllllllllllllllllllllllllllllllllllllllllllllllllllllllllllllllllllllllllllllllllllllllllllllllllllllllllllllllllllllllllllllllllllllllllllllllllllllllllllllllllllllllllllllllllllllllllllllllllllllllllllllllllllllllllllllllllllllllllllllllllllllll}\n",
       "  & DRX000549 & DRX000550 & DRX001460 & DRX002911 & DRX002912 & DRX002915 & DRX002918 & DRX013180 & DRX013181 & DRX013190 & ⋯ & SRX974294 & SRX974295 & SRX974395 & SRX976241 & SRX976244 & SRX986358 & SRX995496 & SRX995497 & SRX995500 & SRX995501\\\\\n",
       "\\hline\n",
       "\tDRX000549 & 1.00000000   & 0.17525885   & 0.11394696   & 0.06759852   & 0.07242662   & 0.07223772   & 0.07488169   & 0.004325589  & 0.007686851  & 0.0036053537 & ⋯            & 0.011578973  & 0.020665263  & 0.03914999   & 0.02525893   & 0.03026684   & 0.05464746   & 0.005212163  & 0.008639736  & 0.006449942  & 0.0023615585\\\\\n",
       "\tDRX000550 & 0.17525885   & 1.00000000   & 0.15692934   & 0.07239993   & 0.08160262   & 0.09948701   & 0.08436907   & 0.006011529  & 0.006614595  & 0.0050286710 & ⋯            & 0.015967755  & 0.028471509  & 0.06934400   & 0.02781557   & 0.04169167   & 0.09677741   & 0.007217869  & 0.011923046  & 0.008915332  & 0.0033058697\\\\\n",
       "\tDRX001460 & 0.11394696   & 0.15692934   & 1.00000000   & 0.04706463   & 0.04124966   & 0.05029703   & 0.04264919   & 0.003821935  & 0.004221101  & 0.0038922601 & ⋯            & 0.010347442  & 0.018492224  & 0.03504894   & 0.01261322   & 0.01894404   & 0.04892641   & 0.004302020  & 0.007186862  & 0.005346084  & 0.0030417481\\\\\n",
       "\tDRX002911 & 0.06759852   & 0.07239993   & 0.04706463   & 1.00000000   & 0.64792948   & 0.18579749   & 0.63046654   & 0.001902651  & 0.004281362  & 0.0009772816 & ⋯            & 0.004610149  & 0.005991611  & 0.05084025   & 0.03652392   & 0.06101029   & 0.13876920   & 0.002587784  & 0.002156895  & 0.001481716  & 0.0019532373\\\\\n",
       "\tDRX002912 & 0.07242662   & 0.08160262   & 0.04124966   & 0.64792948   & 1.00000000   & 0.17450270   & 0.77229928   & 0.003209674  & 0.004927867  & 0.0017149483 & ⋯            & 0.005191366  & 0.007364229  & 0.04860710   & 0.03381365   & 0.05620361   & 0.13578859   & 0.002481975  & 0.002881575  & 0.002008291  & 0.0010594650\\\\\n",
       "\tDRX002915 & 0.07223772   & 0.09948701   & 0.05029703   & 0.18579749   & 0.17450270   & 1.00000000   & 0.18342350   & 0.001519777  & 0.003358463  & 0.0024119258 & ⋯            & 0.007917734  & 0.011656776  & 0.07411824   & 0.04464858   & 0.09869756   & 0.33112868   & 0.002823544  & 0.003637944  & 0.004087684  & 0.0006587629\\\\\n",
       "\\end{tabular}\n"
      ],
      "text/markdown": [
       "\n",
       "| <!--/--> | DRX000549 | DRX000550 | DRX001460 | DRX002911 | DRX002912 | DRX002915 | DRX002918 | DRX013180 | DRX013181 | DRX013190 | ⋯ | SRX974294 | SRX974295 | SRX974395 | SRX976241 | SRX976244 | SRX986358 | SRX995496 | SRX995497 | SRX995500 | SRX995501 | \n",
       "|---|---|---|---|---|---|\n",
       "| DRX000549 | 1.00000000   | 0.17525885   | 0.11394696   | 0.06759852   | 0.07242662   | 0.07223772   | 0.07488169   | 0.004325589  | 0.007686851  | 0.0036053537 | ⋯            | 0.011578973  | 0.020665263  | 0.03914999   | 0.02525893   | 0.03026684   | 0.05464746   | 0.005212163  | 0.008639736  | 0.006449942  | 0.0023615585 | \n",
       "| DRX000550 | 0.17525885   | 1.00000000   | 0.15692934   | 0.07239993   | 0.08160262   | 0.09948701   | 0.08436907   | 0.006011529  | 0.006614595  | 0.0050286710 | ⋯            | 0.015967755  | 0.028471509  | 0.06934400   | 0.02781557   | 0.04169167   | 0.09677741   | 0.007217869  | 0.011923046  | 0.008915332  | 0.0033058697 | \n",
       "| DRX001460 | 0.11394696   | 0.15692934   | 1.00000000   | 0.04706463   | 0.04124966   | 0.05029703   | 0.04264919   | 0.003821935  | 0.004221101  | 0.0038922601 | ⋯            | 0.010347442  | 0.018492224  | 0.03504894   | 0.01261322   | 0.01894404   | 0.04892641   | 0.004302020  | 0.007186862  | 0.005346084  | 0.0030417481 | \n",
       "| DRX002911 | 0.06759852   | 0.07239993   | 0.04706463   | 1.00000000   | 0.64792948   | 0.18579749   | 0.63046654   | 0.001902651  | 0.004281362  | 0.0009772816 | ⋯            | 0.004610149  | 0.005991611  | 0.05084025   | 0.03652392   | 0.06101029   | 0.13876920   | 0.002587784  | 0.002156895  | 0.001481716  | 0.0019532373 | \n",
       "| DRX002912 | 0.07242662   | 0.08160262   | 0.04124966   | 0.64792948   | 1.00000000   | 0.17450270   | 0.77229928   | 0.003209674  | 0.004927867  | 0.0017149483 | ⋯            | 0.005191366  | 0.007364229  | 0.04860710   | 0.03381365   | 0.05620361   | 0.13578859   | 0.002481975  | 0.002881575  | 0.002008291  | 0.0010594650 | \n",
       "| DRX002915 | 0.07223772   | 0.09948701   | 0.05029703   | 0.18579749   | 0.17450270   | 1.00000000   | 0.18342350   | 0.001519777  | 0.003358463  | 0.0024119258 | ⋯            | 0.007917734  | 0.011656776  | 0.07411824   | 0.04464858   | 0.09869756   | 0.33112868   | 0.002823544  | 0.003637944  | 0.004087684  | 0.0006587629 | \n",
       "\n",
       "\n"
      ],
      "text/plain": [
       "          DRX000549  DRX000550  DRX001460  DRX002911  DRX002912  DRX002915 \n",
       "DRX000549 1.00000000 0.17525885 0.11394696 0.06759852 0.07242662 0.07223772\n",
       "DRX000550 0.17525885 1.00000000 0.15692934 0.07239993 0.08160262 0.09948701\n",
       "DRX001460 0.11394696 0.15692934 1.00000000 0.04706463 0.04124966 0.05029703\n",
       "DRX002911 0.06759852 0.07239993 0.04706463 1.00000000 0.64792948 0.18579749\n",
       "DRX002912 0.07242662 0.08160262 0.04124966 0.64792948 1.00000000 0.17450270\n",
       "DRX002915 0.07223772 0.09948701 0.05029703 0.18579749 0.17450270 1.00000000\n",
       "          DRX002918  DRX013180   DRX013181   DRX013190    ⋯ SRX974294  \n",
       "DRX000549 0.07488169 0.004325589 0.007686851 0.0036053537 ⋯ 0.011578973\n",
       "DRX000550 0.08436907 0.006011529 0.006614595 0.0050286710 ⋯ 0.015967755\n",
       "DRX001460 0.04264919 0.003821935 0.004221101 0.0038922601 ⋯ 0.010347442\n",
       "DRX002911 0.63046654 0.001902651 0.004281362 0.0009772816 ⋯ 0.004610149\n",
       "DRX002912 0.77229928 0.003209674 0.004927867 0.0017149483 ⋯ 0.005191366\n",
       "DRX002915 0.18342350 0.001519777 0.003358463 0.0024119258 ⋯ 0.007917734\n",
       "          SRX974295   SRX974395  SRX976241  SRX976244  SRX986358  SRX995496  \n",
       "DRX000549 0.020665263 0.03914999 0.02525893 0.03026684 0.05464746 0.005212163\n",
       "DRX000550 0.028471509 0.06934400 0.02781557 0.04169167 0.09677741 0.007217869\n",
       "DRX001460 0.018492224 0.03504894 0.01261322 0.01894404 0.04892641 0.004302020\n",
       "DRX002911 0.005991611 0.05084025 0.03652392 0.06101029 0.13876920 0.002587784\n",
       "DRX002912 0.007364229 0.04860710 0.03381365 0.05620361 0.13578859 0.002481975\n",
       "DRX002915 0.011656776 0.07411824 0.04464858 0.09869756 0.33112868 0.002823544\n",
       "          SRX995497   SRX995500   SRX995501   \n",
       "DRX000549 0.008639736 0.006449942 0.0023615585\n",
       "DRX000550 0.011923046 0.008915332 0.0033058697\n",
       "DRX001460 0.007186862 0.005346084 0.0030417481\n",
       "DRX002911 0.002156895 0.001481716 0.0019532373\n",
       "DRX002912 0.002881575 0.002008291 0.0010594650\n",
       "DRX002915 0.003637944 0.004087684 0.0006587629"
      ]
     },
     "metadata": {},
     "output_type": "display_data"
    }
   ],
   "source": [
    "data.dir.id <- \"20180222-1701\"\n",
    "data.dir <- file.path(\"../data\", data.dir.id)\n",
    "all.matrix <- readRDS(file.path(data.dir, \"rds\", \"all.matrix.rds\"))\n",
    "head(all.matrix)"
   ]
  },
  {
   "cell_type": "markdown",
   "metadata": {},
   "source": [
    "### Load metadata"
   ]
  },
  {
   "cell_type": "code",
   "execution_count": 2,
   "metadata": {},
   "outputs": [
    {
     "data": {
      "text/html": [
       "<table>\n",
       "<thead><tr><th scope=col>V1</th><th scope=col>V2</th><th scope=col>V3</th><th scope=col>V4</th></tr></thead>\n",
       "<tbody>\n",
       "\t<tr><td>DRX013180      </td><td>CTCF           </td><td>Digestive tract</td><td>DLD-1          </td></tr>\n",
       "\t<tr><td>DRX013190      </td><td>CTCF           </td><td>Kidney         </td><td>293            </td></tr>\n",
       "\t<tr><td>DRX013200      </td><td>CTCF           </td><td>Uterus         </td><td>HeLa           </td></tr>\n",
       "\t<tr><td>DRX013210      </td><td>CTCF           </td><td>Breast         </td><td>MCF-7          </td></tr>\n",
       "\t<tr><td>ERX1149048     </td><td>CTCF           </td><td>Blood          </td><td>HEL 92.1.7     </td></tr>\n",
       "\t<tr><td>ERX1149049     </td><td>CTCF           </td><td>Blood          </td><td>HEL 92.1.7     </td></tr>\n",
       "</tbody>\n",
       "</table>\n"
      ],
      "text/latex": [
       "\\begin{tabular}{r|llll}\n",
       " V1 & V2 & V3 & V4\\\\\n",
       "\\hline\n",
       "\t DRX013180       & CTCF            & Digestive tract & DLD-1          \\\\\n",
       "\t DRX013190       & CTCF            & Kidney          & 293            \\\\\n",
       "\t DRX013200       & CTCF            & Uterus          & HeLa           \\\\\n",
       "\t DRX013210       & CTCF            & Breast          & MCF-7          \\\\\n",
       "\t ERX1149048      & CTCF            & Blood           & HEL 92.1.7     \\\\\n",
       "\t ERX1149049      & CTCF            & Blood           & HEL 92.1.7     \\\\\n",
       "\\end{tabular}\n"
      ],
      "text/markdown": [
       "\n",
       "V1 | V2 | V3 | V4 | \n",
       "|---|---|---|---|---|---|\n",
       "| DRX013180       | CTCF            | Digestive tract | DLD-1           | \n",
       "| DRX013190       | CTCF            | Kidney          | 293             | \n",
       "| DRX013200       | CTCF            | Uterus          | HeLa            | \n",
       "| DRX013210       | CTCF            | Breast          | MCF-7           | \n",
       "| ERX1149048      | CTCF            | Blood           | HEL 92.1.7      | \n",
       "| ERX1149049      | CTCF            | Blood           | HEL 92.1.7      | \n",
       "\n",
       "\n"
      ],
      "text/plain": [
       "  V1         V2   V3              V4        \n",
       "1 DRX013180  CTCF Digestive tract DLD-1     \n",
       "2 DRX013190  CTCF Kidney          293       \n",
       "3 DRX013200  CTCF Uterus          HeLa      \n",
       "4 DRX013210  CTCF Breast          MCF-7     \n",
       "5 ERX1149048 CTCF Blood           HEL 92.1.7\n",
       "6 ERX1149049 CTCF Blood           HEL 92.1.7"
      ]
     },
     "metadata": {},
     "output_type": "display_data"
    }
   ],
   "source": [
    "metadata.path <- file.path(data.dir, \"metadata\", \"exps_downloaded.reduced.tsv\")\n",
    "metadata <- read.delim(metadata.path, header=F)\n",
    "head(metadata)"
   ]
  },
  {
   "cell_type": "code",
   "execution_count": 3,
   "metadata": {},
   "outputs": [
    {
     "data": {
      "text/html": [
       "<ol class=list-inline>\n",
       "\t<li>'CTCF'</li>\n",
       "\t<li>'ESR1'</li>\n",
       "\t<li>'AR'</li>\n",
       "\t<li>'Epitope tags'</li>\n",
       "\t<li>'BRD4'</li>\n",
       "\t<li>'GFP'</li>\n",
       "</ol>\n"
      ],
      "text/latex": [
       "\\begin{enumerate*}\n",
       "\\item 'CTCF'\n",
       "\\item 'ESR1'\n",
       "\\item 'AR'\n",
       "\\item 'Epitope tags'\n",
       "\\item 'BRD4'\n",
       "\\item 'GFP'\n",
       "\\end{enumerate*}\n"
      ],
      "text/markdown": [
       "1. 'CTCF'\n",
       "2. 'ESR1'\n",
       "3. 'AR'\n",
       "4. 'Epitope tags'\n",
       "5. 'BRD4'\n",
       "6. 'GFP'\n",
       "\n",
       "\n"
      ],
      "text/plain": [
       "[1] \"CTCF\"         \"ESR1\"         \"AR\"           \"Epitope tags\" \"BRD4\"        \n",
       "[6] \"GFP\"         "
      ]
     },
     "metadata": {},
     "output_type": "display_data"
    }
   ],
   "source": [
    "tfs.list.path <- file.path(data.dir, \"metadata\", \"tfs_downloaded.txt\")\n",
    "tfs.vec <- readLines(tfs.list.path)\n",
    "head(tfs.vec)"
   ]
  },
  {
   "cell_type": "markdown",
   "metadata": {},
   "source": [
    "### Distribution of correlation coefficient in each TF"
   ]
  },
  {
   "cell_type": "code",
   "execution_count": 4,
   "metadata": {},
   "outputs": [],
   "source": [
    "library(reshape2)\n",
    "library(ggplot2)"
   ]
  },
  {
   "cell_type": "code",
   "execution_count": 5,
   "metadata": {},
   "outputs": [
    {
     "data": {
      "text/html": [
       "<table>\n",
       "<thead><tr><th scope=col>Var1</th><th scope=col>Var2</th><th scope=col>value</th></tr></thead>\n",
       "<tbody>\n",
       "\t<tr><td>DRX000549 </td><td>DRX000549 </td><td>1.00000000</td></tr>\n",
       "\t<tr><td>DRX000550 </td><td>DRX000549 </td><td>0.17525885</td></tr>\n",
       "\t<tr><td>DRX001460 </td><td>DRX000549 </td><td>0.11394696</td></tr>\n",
       "\t<tr><td>DRX002911 </td><td>DRX000549 </td><td>0.06759852</td></tr>\n",
       "\t<tr><td>DRX002912 </td><td>DRX000549 </td><td>0.07242662</td></tr>\n",
       "\t<tr><td>DRX002915 </td><td>DRX000549 </td><td>0.07223772</td></tr>\n",
       "</tbody>\n",
       "</table>\n"
      ],
      "text/latex": [
       "\\begin{tabular}{r|lll}\n",
       " Var1 & Var2 & value\\\\\n",
       "\\hline\n",
       "\t DRX000549  & DRX000549  & 1.00000000\\\\\n",
       "\t DRX000550  & DRX000549  & 0.17525885\\\\\n",
       "\t DRX001460  & DRX000549  & 0.11394696\\\\\n",
       "\t DRX002911  & DRX000549  & 0.06759852\\\\\n",
       "\t DRX002912  & DRX000549  & 0.07242662\\\\\n",
       "\t DRX002915  & DRX000549  & 0.07223772\\\\\n",
       "\\end{tabular}\n"
      ],
      "text/markdown": [
       "\n",
       "Var1 | Var2 | value | \n",
       "|---|---|---|---|---|---|\n",
       "| DRX000549  | DRX000549  | 1.00000000 | \n",
       "| DRX000550  | DRX000549  | 0.17525885 | \n",
       "| DRX001460  | DRX000549  | 0.11394696 | \n",
       "| DRX002911  | DRX000549  | 0.06759852 | \n",
       "| DRX002912  | DRX000549  | 0.07242662 | \n",
       "| DRX002915  | DRX000549  | 0.07223772 | \n",
       "\n",
       "\n"
      ],
      "text/plain": [
       "  Var1      Var2      value     \n",
       "1 DRX000549 DRX000549 1.00000000\n",
       "2 DRX000550 DRX000549 0.17525885\n",
       "3 DRX001460 DRX000549 0.11394696\n",
       "4 DRX002911 DRX000549 0.06759852\n",
       "5 DRX002912 DRX000549 0.07242662\n",
       "6 DRX002915 DRX000549 0.07223772"
      ]
     },
     "metadata": {},
     "output_type": "display_data"
    }
   ],
   "source": [
    "head(melt(all.matrix))"
   ]
  },
  {
   "cell_type": "code",
   "execution_count": 5,
   "metadata": {},
   "outputs": [],
   "source": [
    "mat.melt <- melt(all.matrix)\n",
    "mat.melt <- mat.melt[mat.melt$value != 1,]"
   ]
  },
  {
   "cell_type": "markdown",
   "metadata": {},
   "source": [
    "**too heavy to run**"
   ]
  },
  {
   "cell_type": "code",
   "execution_count": null,
   "metadata": {},
   "outputs": [],
   "source": [
    "ggplot(mat.melt, aes(as.factor(Var1), value)) + geom_boxplot() + theme_bw() + theme(axis.text.x = element_text(angle = 45, hjust = 1)) "
   ]
  },
  {
   "cell_type": "code",
   "execution_count": 6,
   "metadata": {},
   "outputs": [
    {
     "data": {
      "text/html": [
       "<table>\n",
       "<thead><tr><th scope=col>expid</th><th scope=col>against</th><th scope=col>value</th><th scope=col>antigen</th><th scope=col>cellTypeClass</th><th scope=col>CellType</th></tr></thead>\n",
       "<tbody>\n",
       "\t<tr><td>DRX000549  </td><td>SRX253229  </td><td>0.044844787</td><td>PARK7      </td><td>Neural     </td><td>SH-SY5Y    </td></tr>\n",
       "\t<tr><td>DRX000549  </td><td>SRX359899  </td><td>0.019664504</td><td>PARK7      </td><td>Neural     </td><td>SH-SY5Y    </td></tr>\n",
       "\t<tr><td>DRX000549  </td><td>SRX190229  </td><td>0.012105799</td><td>PARK7      </td><td>Neural     </td><td>SH-SY5Y    </td></tr>\n",
       "\t<tr><td>DRX000549  </td><td>SRX1426074 </td><td>0.104426975</td><td>PARK7      </td><td>Neural     </td><td>SH-SY5Y    </td></tr>\n",
       "\t<tr><td>DRX000549  </td><td>SRX097106  </td><td>0.006160718</td><td>PARK7      </td><td>Neural     </td><td>SH-SY5Y    </td></tr>\n",
       "\t<tr><td>DRX000549  </td><td>SRX2901941 </td><td>0.034370413</td><td>PARK7      </td><td>Neural     </td><td>SH-SY5Y    </td></tr>\n",
       "</tbody>\n",
       "</table>\n"
      ],
      "text/latex": [
       "\\begin{tabular}{r|llllll}\n",
       " expid & against & value & antigen & cellTypeClass & CellType\\\\\n",
       "\\hline\n",
       "\t DRX000549   & SRX253229   & 0.044844787 & PARK7       & Neural      & SH-SY5Y    \\\\\n",
       "\t DRX000549   & SRX359899   & 0.019664504 & PARK7       & Neural      & SH-SY5Y    \\\\\n",
       "\t DRX000549   & SRX190229   & 0.012105799 & PARK7       & Neural      & SH-SY5Y    \\\\\n",
       "\t DRX000549   & SRX1426074  & 0.104426975 & PARK7       & Neural      & SH-SY5Y    \\\\\n",
       "\t DRX000549   & SRX097106   & 0.006160718 & PARK7       & Neural      & SH-SY5Y    \\\\\n",
       "\t DRX000549   & SRX2901941  & 0.034370413 & PARK7       & Neural      & SH-SY5Y    \\\\\n",
       "\\end{tabular}\n"
      ],
      "text/markdown": [
       "\n",
       "expid | against | value | antigen | cellTypeClass | CellType | \n",
       "|---|---|---|---|---|---|\n",
       "| DRX000549   | SRX253229   | 0.044844787 | PARK7       | Neural      | SH-SY5Y     | \n",
       "| DRX000549   | SRX359899   | 0.019664504 | PARK7       | Neural      | SH-SY5Y     | \n",
       "| DRX000549   | SRX190229   | 0.012105799 | PARK7       | Neural      | SH-SY5Y     | \n",
       "| DRX000549   | SRX1426074  | 0.104426975 | PARK7       | Neural      | SH-SY5Y     | \n",
       "| DRX000549   | SRX097106   | 0.006160718 | PARK7       | Neural      | SH-SY5Y     | \n",
       "| DRX000549   | SRX2901941  | 0.034370413 | PARK7       | Neural      | SH-SY5Y     | \n",
       "\n",
       "\n"
      ],
      "text/plain": [
       "  expid     against    value       antigen cellTypeClass CellType\n",
       "1 DRX000549 SRX253229  0.044844787 PARK7   Neural        SH-SY5Y \n",
       "2 DRX000549 SRX359899  0.019664504 PARK7   Neural        SH-SY5Y \n",
       "3 DRX000549 SRX190229  0.012105799 PARK7   Neural        SH-SY5Y \n",
       "4 DRX000549 SRX1426074 0.104426975 PARK7   Neural        SH-SY5Y \n",
       "5 DRX000549 SRX097106  0.006160718 PARK7   Neural        SH-SY5Y \n",
       "6 DRX000549 SRX2901941 0.034370413 PARK7   Neural        SH-SY5Y "
      ]
     },
     "metadata": {},
     "output_type": "display_data"
    }
   ],
   "source": [
    "colnames(mat.melt) <- c(\"expid\", \"against\", \"value\")\n",
    "colnames(metadata) <- c(\"expid\", \"antigen\", \"cellTypeClass\", \"CellType\")\n",
    "mat.md <- merge(mat.melt, metadata, by=\"expid\")\n",
    "head(mat.md)"
   ]
  },
  {
   "cell_type": "markdown",
   "metadata": {},
   "source": [
    "**too heavy to run**"
   ]
  },
  {
   "cell_type": "code",
   "execution_count": null,
   "metadata": {},
   "outputs": [],
   "source": [
    "p <- ggplot(mat.md, aes(as.factor(expid), value))\n",
    "p <- p + geom_boxplot(aes(colour=antigen))\n",
    "p <- p + theme_bw()\n",
    "p <- p + theme(axis.text.x = element_text(angle = 45, hjust = 1))\n",
    "p"
   ]
  },
  {
   "cell_type": "code",
   "execution_count": null,
   "metadata": {},
   "outputs": [],
   "source": [
    "p <- ggplot(mat.md, aes(as.factor(antigen), value))\n",
    "p <- p + geom_boxplot()\n",
    "p <- p + theme_bw()\n",
    "p <- p + theme(axis.text.x = element_text(angle = 45, hjust = 1))\n",
    "p"
   ]
  },
  {
   "cell_type": "code",
   "execution_count": 15,
   "metadata": {},
   "outputs": [],
   "source": []
  },
  {
   "cell_type": "code",
   "execution_count": 18,
   "metadata": {},
   "outputs": [
    {
     "data": {
      "text/html": [
       "26246357"
      ],
      "text/latex": [
       "26246357"
      ],
      "text/markdown": [
       "26246357"
      ],
      "text/plain": [
       "[1] 26246357"
      ]
     },
     "metadata": {},
     "output_type": "display_data"
    }
   ],
   "source": [
    "top30 <- head(tfs.vec, 30)\n",
    "mat.top30 <- mat.md[mat.md$antigen %in% top30,]\n",
    "nrow(mat.top30)"
   ]
  },
  {
   "cell_type": "code",
   "execution_count": 17,
   "metadata": {},
   "outputs": [
    {
     "data": {
      "text/html": [
       "18136240"
      ],
      "text/latex": [
       "18136240"
      ],
      "text/markdown": [
       "18136240"
      ],
      "text/plain": [
       "[1] 18136240"
      ]
     },
     "metadata": {},
     "output_type": "display_data"
    }
   ],
   "source": [
    "top10 <- head(tfs.vec, 10)\n",
    "mat.top10 <- mat.md[mat.md$antigen %in% top10,]\n",
    "nrow(mat.top10)"
   ]
  },
  {
   "cell_type": "code",
   "execution_count": 7,
   "metadata": {},
   "outputs": [
    {
     "data": {
      "text/html": [
       "3729630"
      ],
      "text/latex": [
       "3729630"
      ],
      "text/markdown": [
       "3729630"
      ],
      "text/plain": [
       "[1] 3729630"
      ]
     },
     "metadata": {},
     "output_type": "display_data"
    }
   ],
   "source": [
    "top1 <- head(tfs.vec, 1)\n",
    "mat.top1 <- mat.md[mat.md$antigen %in% top1,]\n",
    "nrow(mat.top1)"
   ]
  },
  {
   "cell_type": "code",
   "execution_count": null,
   "metadata": {},
   "outputs": [
    {
     "data": {},
     "metadata": {},
     "output_type": "display_data"
    }
   ],
   "source": [
    "p <- ggplot(mat.top1, aes(as.factor(antigen), value))\n",
    "p <- p + geom_boxplot()\n",
    "p <- p + theme_bw()\n",
    "p <- p + theme(axis.text.x = element_text(angle = 45, hjust = 1))\n",
    "p"
   ]
  },
  {
   "cell_type": "code",
   "execution_count": null,
   "metadata": {},
   "outputs": [],
   "source": []
  }
 ],
 "metadata": {
  "kernelspec": {
   "display_name": "R",
   "language": "R",
   "name": "ir"
  },
  "language_info": {
   "codemirror_mode": "r",
   "file_extension": ".r",
   "mimetype": "text/x-r-source",
   "name": "R",
   "pygments_lexer": "r",
   "version": "3.3.2"
  }
 },
 "nbformat": 4,
 "nbformat_minor": 2
}
